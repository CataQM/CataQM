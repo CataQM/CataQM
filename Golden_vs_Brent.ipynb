{
  "nbformat": 4,
  "nbformat_minor": 0,
  "metadata": {
    "colab": {
      "name": "Golden_vs_Brent.ipynb",
      "provenance": [],
      "collapsed_sections": [],
      "authorship_tag": "ABX9TyMon/iKD/GjogUFVZRwH0ju",
      "include_colab_link": true
    },
    "kernelspec": {
      "name": "python3",
      "display_name": "Python 3"
    },
    "language_info": {
      "name": "python"
    }
  },
  "cells": [
    {
      "cell_type": "markdown",
      "metadata": {
        "id": "view-in-github",
        "colab_type": "text"
      },
      "source": [
        "<a href=\"https://colab.research.google.com/github/CataQM/CataQM/blob/main/Golden_vs_Brent.ipynb\" target=\"_parent\"><img src=\"https://colab.research.google.com/assets/colab-badge.svg\" alt=\"Open In Colab\"/></a>"
      ]
    },
    {
      "cell_type": "markdown",
      "metadata": {
        "id": "fhteqlNcEZlK"
      },
      "source": [
        "# Golden Section vs Brent\n",
        "## Catalina Quincosis Martínez\n",
        "### 02/12/21\n",
        "###Métodos de optimización de una dimensión\n",
        "El propósito de estos métodos de optimización es localizar el mínimo de una función unimodal. Dicha propiedad de algunas funciones de valor real permite refinar el intervalo inicial donde se encuentra la solución, esto es posible al evaluar los valores de la función dentro del intervalo para desechar o no pedazos que ayuden a acercarse al objetivo.\n",
        "\n",
        "Con esto en mente, se iniciará revisando algunas características del método  de la sección dorada aplicada a dos funciones unimodales, donde se verificará que la tasa de convergencia es el número dorado (o al menos está acotada por el).  \n",
        "\n",
        "\n",
        "\n",
        "\n",
        "\n"
      ]
    },
    {
      "cell_type": "code",
      "metadata": {
        "colab": {
          "base_uri": "https://localhost:8080/",
          "height": 336
        },
        "cellView": "form",
        "id": "p8C_lEU8zuqp",
        "outputId": "89b3a941-6180-4231-d859-c729c0fd9504"
      },
      "source": [
        "#@title Si quieres una explicación más detallada de los métodos mira los vídeos.\n",
        "#Una pequeña muestra de html para hacer interactivo el reporte.\n",
        "%%html\n",
        "<iframe width=\"560\" height=\"315\" src=\"https://www.youtube.com/embed/wpGN2xus75w\" title=\"YouTube video player\" frameborder=\"0\" allow=\"accelerometer; autoplay; clipboard-write; encrypted-media; gyroscope; picture-in-picture\" allowfullscreen></iframe>\n",
        "<iframe width=\"560\" height=\"315\" src=\"https://www.youtube.com/embed/BQm7uTYC0sg\" title=\"YouTube video player\" frameborder=\"0\" allow=\"accelerometer; autoplay; clipboard-write; encrypted-media; gyroscope; picture-in-picture\" allowfullscreen></iframe>"
      ],
      "execution_count": 71,
      "outputs": [
        {
          "output_type": "display_data",
          "data": {
            "text/html": [
              "<iframe width=\"560\" height=\"315\" src=\"https://www.youtube.com/embed/wpGN2xus75w\" title=\"YouTube video player\" frameborder=\"0\" allow=\"accelerometer; autoplay; clipboard-write; encrypted-media; gyroscope; picture-in-picture\" allowfullscreen></iframe>\n",
              "<iframe width=\"560\" height=\"315\" src=\"https://www.youtube.com/embed/BQm7uTYC0sg\" title=\"YouTube video player\" frameborder=\"0\" allow=\"accelerometer; autoplay; clipboard-write; encrypted-media; gyroscope; picture-in-picture\" allowfullscreen></iframe>"
            ],
            "text/plain": [
              "<IPython.core.display.HTML object>"
            ]
          },
          "metadata": {}
        }
      ]
    },
    {
      "cell_type": "code",
      "metadata": {
        "id": "IDAxX7rYD2U6",
        "cellView": "form"
      },
      "source": [
        "#@title Importamos paquetes\n",
        "##Importamos paquetes\n",
        "import numpy as np\n",
        "import matplotlib.pyplot as plt\n",
        "from scipy import optimize \n",
        "import pandas as pd\n",
        "from tabulate import tabulate"
      ],
      "execution_count": 72,
      "outputs": []
    },
    {
      "cell_type": "code",
      "metadata": {
        "id": "7CxyXmlaWhvw",
        "colab": {
          "base_uri": "https://localhost:8080/",
          "height": 298
        },
        "cellView": "form",
        "outputId": "a5b9bb03-f3c4-41aa-c645-509836a2d4bd"
      },
      "source": [
        "#@title Función 1 $$(x_0-x)^2+e^{-5(x-0.5-x_0)^2}$$\n",
        "\n",
        "x = np.linspace(-1, 3, 100)\n",
        "x0 = np.exp(-1)\n",
        "\n",
        "def f(x):\n",
        "    return (x-x0)**2 + np.exp(-5*(x -  0.5 - x0)**2)\n",
        "\n",
        "plt.plot(x, f(x))\n",
        "plt.title(\"Función 1\")"
      ],
      "execution_count": 73,
      "outputs": [
        {
          "output_type": "execute_result",
          "data": {
            "text/plain": [
              "Text(0.5, 1.0, 'Función 1')"
            ]
          },
          "metadata": {},
          "execution_count": 73
        },
        {
          "output_type": "display_data",
          "data": {
            "image/png": "[encoded data removed]",
            "text/plain": [
              "<Figure size 432x288 with 1 Axes>"
            ]
          },
          "metadata": {
            "needs_background": "light"
          }
        }
      ]
    },
    {
      "cell_type": "markdown",
      "metadata": {
        "id": "HFMw_lqz-Txz"
      },
      "source": [
        "Note que es una función unimodal que presenta una deformación cercana a la que posee el mínimo global del intervalo. La intención de tomar ésta función es ver la eficiencia del método cuando se presentan este tipo de \"obstáculos\"."
      ]
    },
    {
      "cell_type": "code",
      "metadata": {
        "colab": {
          "base_uri": "https://localhost:8080/"
        },
        "id": "LIlid2YO_UJi",
        "cellView": "form",
        "outputId": "688af49d-82fa-42a2-8b3b-6f860db7bb80"
      },
      "source": [
        "#@title Aplicamos el método Golden y vemos el resultado\n",
        "\n",
        "resultadog1= optimize.minimize_scalar(f, (1,4), method='golden')\n",
        "resultadob1= optimize.minimize_scalar(f, (1,4), method='brent')\n",
        "resultadog1"
      ],
      "execution_count": 74,
      "outputs": [
        {
          "output_type": "execute_result",
          "data": {
            "text/plain": [
              "     fun: 0.12229946413411437\n",
              "    nfev: 50\n",
              "     nit: 45\n",
              " success: True\n",
              "       x: 0.12812913224608025"
            ]
          },
          "metadata": {},
          "execution_count": 74
        }
      ]
    },
    {
      "cell_type": "markdown",
      "metadata": {
        "id": "HwGDIcZaU6cO"
      },
      "source": [
        "####Cada una de las casillas antes expuestas significan lo siguiente:\n",
        "\n",
        "*   **fun:** Valor de la función objetivo.\n",
        "*   **nfev:** Número de las evaluaciones de la función objetivo.\n",
        "*   **nit:** Número de iteraciones realizadas por el optimizador.\n",
        "*   **succes:** Indica si el optimizador cerró correctamente o no.\n",
        "*    **x:** Solución de la optimización.\n",
        "\n",
        "\n",
        "\n",
        "\n",
        "\n"
      ]
    },
    {
      "cell_type": "markdown",
      "metadata": {
        "id": "BL00oPIReQvP"
      },
      "source": [
        "El número de iteraciones es un poco alto. Ahora lo compararemos con el método de brent"
      ]
    },
    {
      "cell_type": "markdown",
      "metadata": {
        "id": "L2N2z8Uie1Mm"
      },
      "source": [
        "Se observa una cantidad menor de iteraciones que la del método de Golden secction⚡"
      ]
    },
    {
      "cell_type": "markdown",
      "metadata": {
        "id": "BlM5eqXvVWOT"
      },
      "source": [
        "\n",
        "Una cosa que no se percibir es cómo se va acortando el intervalo, es decir, la función no permite ver la iteraciones realizadas. Tampoco se puede visualizar la taza de convergencia ¿qué pasa con τ? Es por esto que se plasmarán estos datos y seguiremos con el análisis.\n",
        "\n",
        "Definimos la función iter que nos mostrará las iteraciones del optimizador:"
      ]
    },
    {
      "cell_type": "code",
      "metadata": {
        "id": "hUxx6lJnnGnv",
        "cellView": "form"
      },
      "source": [
        "#@title Iteraciones\n",
        "#Se intoduce un nivel de tolerancia para que la convergancia sea más rápida\n",
        "iter=5\n",
        "res= optimize.minimize_scalar(f, (1,4), method='golden', tol=10**(-5),options={\"maxiter\": iter})\n",
        "#Creamos una lista para guardar las iteraciones en cada paso que la función no encuentre el mínimo\n",
        "res.success=False\n",
        "iter = 1\n",
        "X=[]\n",
        "while res.success == False:\n",
        "  res= optimize.minimize_scalar(f, (1,4), method='golden', tol=10**(-5), options={\"maxiter\": iter})\n",
        "  X.append(res.x)\n",
        "  iter+=1"
      ],
      "execution_count": 75,
      "outputs": []
    },
    {
      "cell_type": "markdown",
      "metadata": {
        "id": "8tQeK1P3WWHI"
      },
      "source": [
        "vemos la gráfica del comportamiento del aproximador al mínimo de la función, es decir, el comportamineto de búsqueda a través de la iteraciones"
      ]
    },
    {
      "cell_type": "code",
      "metadata": {
        "colab": {
          "base_uri": "https://localhost:8080/",
          "height": 298
        },
        "id": "fTwQl4M5ZOtD",
        "cellView": "form",
        "outputId": "112666e9-841b-490f-9bc1-05bd28604bf2"
      },
      "source": [
        "#@title Comportamiento de los valores que va tomando el método Golden\n",
        "plt.plot(X)\n",
        "plt.title(\"Valores de x\")"
      ],
      "execution_count": 76,
      "outputs": [
        {
          "output_type": "execute_result",
          "data": {
            "text/plain": [
              "Text(0.5, 1.0, 'Valores de x')"
            ]
          },
          "metadata": {},
          "execution_count": 76
        },
        {
          "output_type": "display_data",
          "data": {
            "image/png": "[encoded data removed]",
            "text/plain": [
              "<Figure size 432x288 with 1 Axes>"
            ]
          },
          "metadata": {
            "needs_background": "light"
          }
        }
      ]
    },
    {
      "cell_type": "markdown",
      "metadata": {
        "id": "EBqoJB76b3T1"
      },
      "source": [
        "Nótese que desde la iteración 12 los valores se van igualando o se van acercando al objetivo."
      ]
    },
    {
      "cell_type": "code",
      "metadata": {
        "colab": {
          "base_uri": "https://localhost:8080/",
          "height": 298
        },
        "id": "3jSvAI_9aEEa",
        "cellView": "form",
        "outputId": "cb1ed17c-ed8b-43d5-cc9f-3f6b0f2cf93d"
      },
      "source": [
        "#@title Comportamiento de los valores que toma la función al ser evaluada en los puntos anteriores.\n",
        "plt.plot(f(np.array(X)), 'g')\n",
        "plt.title(\"Valores de f(x)\")"
      ],
      "execution_count": 77,
      "outputs": [
        {
          "output_type": "execute_result",
          "data": {
            "text/plain": [
              "Text(0.5, 1.0, 'Valores de f(x)')"
            ]
          },
          "metadata": {},
          "execution_count": 77
        },
        {
          "output_type": "display_data",
          "data": {
            "image/png": "[encoded data removed]",
            "text/plain": [
              "<Figure size 432x288 with 1 Axes>"
            ]
          },
          "metadata": {
            "needs_background": "light"
          }
        }
      ]
    },
    {
      "cell_type": "code",
      "metadata": {
        "colab": {
          "base_uri": "https://localhost:8080/"
        },
        "id": "ggW1910CpH_y",
        "cellView": "form",
        "outputId": "3fd81132-0eac-4895-d2b8-2ab916b0bbac"
      },
      "source": [
        "#@title Tabla **x** vs **f(x)**\n",
        "data = [np.array(X), f(np.array(X))]\n",
        "#df = pd.DataFrame(data, columns = ['x, f'])\n",
        "#date = pd.date_range(np.array(X), f(np.array(X)))\n",
        "#df = pd.DataFrame(np.random.randn(len(Es), 4), index=data, columns= list(\"xxff\"))\n",
        "df = pd.DataFrame( np.random.randn(len(X), 2), index=data, columns= list(\"xf\"))\n",
        "#print(df )\n",
        "print(tabulate(df, headers='keys', tablefmt='fancy_grid'))"
      ],
      "execution_count": 78,
      "outputs": [
        {
          "output_type": "stream",
          "name": "stdout",
          "text": [
            "╒════════════════════════════════════════════╤════════════╤════════════╕\n",
            "│                                            │          x │          f │\n",
            "╞════════════════════════════════════════════╪════════════╪════════════╡\n",
            "│ (1.0, 1.315997586544325)                   │ -0.0808675 │ -0.456204  │\n",
            "├────────────────────────────────────────────┼────────────┼────────────┤\n",
            "│ (0.2917960672121712, 0.19604933665583962)  │ -0.270819  │ -0.973489  │\n",
            "├────────────────────────────────────────────┼────────────┼────────────┤\n",
            "│ (0.2917960672121712, 0.19604933665583962)  │ -1.10484   │ -0.0650359 │\n",
            "├────────────────────────────────────────────┼────────────┼────────────┤\n",
            "│ (0.2917960672121712, 0.19604933665583962)  │  0.121128  │  1.26468   │\n",
            "├────────────────────────────────────────────┼────────────┼────────────┤\n",
            "│ (0.12461179735054942, 0.12232968194531377) │  0.554702  │  0.406646  │\n",
            "├────────────────────────────────────────────┼────────────┼────────────┤\n",
            "│ (0.12461179735054942, 0.12232968194531377) │  0.483833  │ -0.365548  │\n",
            "├────────────────────────────────────────────┼────────────┼────────────┤\n",
            "│ (0.12461179735054942, 0.12232968194531377) │  0.813698  │  1.18938   │\n",
            "├────────────────────────────────────────────┼────────────┼────────────┤\n",
            "│ (0.12461179735054942, 0.12232968194531377) │  0.415629  │ -0.29538   │\n",
            "├────────────────────────────────────────────┼────────────┼────────────┤\n",
            "│ (0.12461179735054942, 0.12232968194531377) │ -0.898096  │ -0.207713  │\n",
            "├────────────────────────────────────────────┼────────────┼────────────┤\n",
            "│ (0.12461179735054942, 0.12232968194531377) │  0.0542899 │  0.351664  │\n",
            "├────────────────────────────────────────────┼────────────┼────────────┤\n",
            "│ (0.12461179735054942, 0.12232968194531377) │  0.416984  │  0.802838  │\n",
            "├────────────────────────────────────────────┼────────────┼────────────┤\n",
            "│ (0.12461179735054942, 0.12232968194531377) │  0.411165  │  1.42538   │\n",
            "├────────────────────────────────────────────┼────────────┼────────────┤\n",
            "│ (0.12817052116988858, 0.12229946833070215) │ -0.154845  │  1.66728   │\n",
            "├────────────────────────────────────────────┼────────────┼────────────┤\n",
            "│ (0.12817052116988858, 0.12229946833070215) │  0.976679  │  1.04942   │\n",
            "├────────────────────────────────────────────┼────────────┼────────────┤\n",
            "│ (0.12817052116988858, 0.12229946833070215) │ -0.65836   │ -1.15259   │\n",
            "├────────────────────────────────────────────┼────────────┼────────────┤\n",
            "│ (0.12817052116988858, 0.12229946833070215) │ -1.7248    │ -1.5039    │\n",
            "├────────────────────────────────────────────┼────────────┼────────────┤\n",
            "│ (0.12817052116988858, 0.12229946833070215) │ -0.786536  │ -0.190632  │\n",
            "├────────────────────────────────────────────┼────────────┼────────────┤\n",
            "│ (0.12817052116988858, 0.12229946833070215) │  0.569454  │  0.747646  │\n",
            "├────────────────────────────────────────────┼────────────┼────────────┤\n",
            "│ (0.12817052116988858, 0.12229946833070215) │ -0.915777  │ -0.0574086 │\n",
            "├────────────────────────────────────────────┼────────────┼────────────┤\n",
            "│ (0.12817052116988858, 0.12229946833070215) │ -0.0235817 │ -0.301046  │\n",
            "├────────────────────────────────────────────┼────────────┼────────────┤\n",
            "│ (0.12809476933490546, 0.12229946702602701) │ -1.7258    │  0.936716  │\n",
            "├────────────────────────────────────────────┼────────────┼────────────┤\n",
            "│ (0.12809476933490546, 0.12229946702602701) │ -0.45418   │ -0.862633  │\n",
            "├────────────────────────────────────────────┼────────────┼────────────┤\n",
            "│ (0.12812370396106415, 0.12229946420623511) │  0.14385   │ -2.37148   │\n",
            "├────────────────────────────────────────────┼────────────┼────────────┤\n",
            "│ (0.12812370396106415, 0.12229946420623511) │ -0.493752  │ -1.08113   │\n",
            "├────────────────────────────────────────────┼────────────┼────────────┤\n",
            "│ (0.12812370396106415, 0.12229946420623511) │ -1.64139   │  1.7902    │\n",
            "├────────────────────────────────────────────┼────────────┼────────────┤\n",
            "│ (0.1281305344997326, 0.12229946413894505)  │ -0.552524  │ -0.155958  │\n",
            "├────────────────────────────────────────────┼────────────┼────────────┤\n",
            "│ (0.1281305344997326, 0.12229946413894505)  │  0.154072  │  0.512598  │\n",
            "├────────────────────────────────────────────┼────────────┼────────────┤\n",
            "│ (0.12812792546613128, 0.12229946413766926) │ -0.466957  │ -0.782992  │\n",
            "├────────────────────────────────────────────┼────────────┼────────────┤\n",
            "│ (0.12812792546613128, 0.12229946413766926) │  0.733999  │  2.40938   │\n",
            "├────────────────────────────────────────────┼────────────┼────────────┤\n",
            "│ (0.12812892202828594, 0.12229946413422049) │  1.68897   │ -0.925133  │\n",
            "├────────────────────────────────────────────┼────────────┼────────────┤\n",
            "│ (0.12812892202828594, 0.12229946413422049) │ -0.236131  │ -0.44619   │\n",
            "├────────────────────────────────────────────┼────────────┼────────────┤\n",
            "│ (0.12812892202828594, 0.12229946413422049) │ -0.0974858 │  1.04245   │\n",
            "├────────────────────────────────────────────┼────────────┼────────────┤\n",
            "│ (0.12812892202828594, 0.12229946413422049) │  0.807739  │  0.240228  │\n",
            "╘════════════════════════════════════════════╧════════════╧════════════╛\n"
          ]
        }
      ]
    },
    {
      "cell_type": "markdown",
      "metadata": {
        "id": "0ODxWf7miAoz"
      },
      "source": [
        "En la tabla anterior se pueden observar los valores que toma el obtimizador (los valores de x) y lo que obtiene al evaluarlos en la función en cuestión."
      ]
    },
    {
      "cell_type": "markdown",
      "metadata": {
        "id": "-DtYnM-PdwhX"
      },
      "source": [
        "# Error de la función con el método Golden\n",
        "\n",
        "Definimos las función del error llamando a nuetro último valor de la lista *X*"
      ]
    },
    {
      "cell_type": "code",
      "metadata": {
        "id": "nkcIOJ4WeMzN",
        "colab": {
          "base_uri": "https://localhost:8080/",
          "height": 298
        },
        "cellView": "form",
        "outputId": "dfe43c7f-fe36-4f88-aaf6-128fa282de1b"
      },
      "source": [
        "#@title Gráfica del error \n",
        "#Con el comando X[-1] estamos llamando al último valor de la lista\n",
        "Es=abs(np.array(X)-X[-1])\n",
        "#Luego graficamos el error\n",
        "plt.plot(Es, 'r')\n",
        "plt.title(\"Error\")"
      ],
      "execution_count": 79,
      "outputs": [
        {
          "output_type": "execute_result",
          "data": {
            "text/plain": [
              "Text(0.5, 1.0, 'Error')"
            ]
          },
          "metadata": {},
          "execution_count": 79
        },
        {
          "output_type": "display_data",
          "data": {
            "image/png": "[encoded data removed]",
            "text/plain": [
              "<Figure size 432x288 with 1 Axes>"
            ]
          },
          "metadata": {
            "needs_background": "light"
          }
        }
      ]
    },
    {
      "cell_type": "markdown",
      "metadata": {
        "id": "fqfobnkvfVrH"
      },
      "source": [
        "A pesar que la gráfica del error es muy parecida a la de los valores de las iteraciones, lo que ésta nos muestra es la velocidad de convergancia del método. Véase cómo empieza en un valor muy alto y a medida que pasan las iteraciones se nota el descenso hasta estabilizarce (más o menos) en la iteración 15."
      ]
    },
    {
      "cell_type": "code",
      "metadata": {
        "colab": {
          "base_uri": "https://localhost:8080/"
        },
        "cellView": "form",
        "id": "-AFIZXKQkso0",
        "outputId": "900cdb82-7a44-4b96-ef95-a328d7f0972f"
      },
      "source": [
        "#@title Tabla **x** vs **Error**\n",
        "data = [np.array(X), f(np.array(Es))]\n",
        "df = pd.DataFrame( np.random.randn(len(X), 2), index=data, columns= list(\"xE\"))\n",
        "print(tabulate(df, headers='keys', tablefmt='fancy_grid'))"
      ],
      "execution_count": 80,
      "outputs": [
        {
          "output_type": "stream",
          "name": "stdout",
          "text": [
            "╒════════════════════════════════════════════╤════════════╤════════════╕\n",
            "│                                            │          x │          E │\n",
            "╞════════════════════════════════════════════╪════════════╪════════════╡\n",
            "│ (1.0, 1.2539279073161278)                  │ -0.227054  │  1.39216   │\n",
            "├────────────────────────────────────────────┼────────────┼────────────┤\n",
            "│ (0.2917960672121712, 0.12548150352864176)  │  0.282021  │  0.450179  │\n",
            "├────────────────────────────────────────────┼────────────┼────────────┤\n",
            "│ (0.2917960672121712, 0.12548150352864176)  │  0.822546  │  0.186313  │\n",
            "├────────────────────────────────────────────┼────────────┼────────────┤\n",
            "│ (0.2917960672121712, 0.12548150352864176)  │ -0.283702  │ -2.94728   │\n",
            "├────────────────────────────────────────────┼────────────┼────────────┤\n",
            "│ (0.12461179735054942, 0.15661848500625236) │ -0.309277  │ -0.313507  │\n",
            "├────────────────────────────────────────────┼────────────┼────────────┤\n",
            "│ (0.12461179735054942, 0.15661848500625236) │ -1.128     │ -0.303433  │\n",
            "├────────────────────────────────────────────┼────────────┼────────────┤\n",
            "│ (0.12461179735054942, 0.15661848500625236) │ -1.19266   │  1.8157    │\n",
            "├────────────────────────────────────────────┼────────────┼────────────┤\n",
            "│ (0.12461179735054942, 0.15661848500625236) │ -1.09644   │  1.09685   │\n",
            "├────────────────────────────────────────────┼────────────┼────────────┤\n",
            "│ (0.12461179735054942, 0.15661848500625236) │  1.12378   │  1.15733   │\n",
            "├────────────────────────────────────────────┼────────────┼────────────┤\n",
            "│ (0.12461179735054942, 0.15661848500625236) │ -0.862741  │ -0.303369  │\n",
            "├────────────────────────────────────────────┼────────────┼────────────┤\n",
            "│ (0.12461179735054942, 0.15661848500625236) │ -1.24585   │  1.2425    │\n",
            "├────────────────────────────────────────────┼────────────┼────────────┤\n",
            "│ (0.12461179735054942, 0.15661848500625236) │ -0.629361  │ -0.387122  │\n",
            "├────────────────────────────────────────────┼────────────┼────────────┤\n",
            "│ (0.12817052116988858, 0.15845578689801024) │  0.0937445 │  1.62069   │\n",
            "├────────────────────────────────────────────┼────────────┼────────────┤\n",
            "│ (0.12817052116988858, 0.15845578689801024) │  1.46993   │ -0.0515017 │\n",
            "├────────────────────────────────────────────┼────────────┼────────────┤\n",
            "│ (0.12817052116988858, 0.15845578689801024) │  0.538618  │  0.67592   │\n",
            "├────────────────────────────────────────────┼────────────┼────────────┤\n",
            "│ (0.12817052116988858, 0.15845578689801024) │ -0.56274   │  0.465081  │\n",
            "├────────────────────────────────────────────┼────────────┼────────────┤\n",
            "│ (0.12817052116988858, 0.15845578689801024) │  1.22804   │ -2.11901   │\n",
            "├────────────────────────────────────────────┼────────────┼────────────┤\n",
            "│ (0.12817052116988858, 0.15845578689801024) │ -0.29257   │ -1.13126   │\n",
            "├────────────────────────────────────────────┼────────────┼────────────┤\n",
            "│ (0.12817052116988858, 0.15845578689801024) │ -1.7805    │ -0.762236  │\n",
            "├────────────────────────────────────────────┼────────────┼────────────┤\n",
            "│ (0.12817052116988858, 0.15845578689801024) │  2.2889    │ -0.96218   │\n",
            "├────────────────────────────────────────────┼────────────┼────────────┤\n",
            "│ (0.12809476933490546, 0.1584597690699507)  │  0.443267  │ -0.228282  │\n",
            "├────────────────────────────────────────────┼────────────┼────────────┤\n",
            "│ (0.12809476933490546, 0.1584597690699507)  │ -0.0649744 │ -0.0794682 │\n",
            "├────────────────────────────────────────────┼────────────┼────────────┤\n",
            "│ (0.12812370396106415, 0.15847524442377448) │  0.0201248 │  0.543144  │\n",
            "├────────────────────────────────────────────┼────────────┼────────────┤\n",
            "│ (0.12812370396106415, 0.15847524442377448) │  1.82122   │  1.43904   │\n",
            "├────────────────────────────────────────────┼────────────┼────────────┤\n",
            "│ (0.12812370396106415, 0.15847524442377448) │ -0.246734  │  0.0146852 │\n",
            "├────────────────────────────────────────────┼────────────┼────────────┤\n",
            "│ (0.1281305344997326, 0.1584771730414479)   │  0.497319  │  0.299424  │\n",
            "├────────────────────────────────────────────┼────────────┼────────────┤\n",
            "│ (0.1281305344997326, 0.1584771730414479)   │  0.166499  │ -1.11021   │\n",
            "├────────────────────────────────────────────┼────────────┼────────────┤\n",
            "│ (0.12812792546613128, 0.15847750249324472) │ -0.487335  │  0.502507  │\n",
            "├────────────────────────────────────────────┼────────────┼────────────┤\n",
            "│ (0.12812792546613128, 0.15847750249324472) │  1.53211   │  1.85704   │\n",
            "├────────────────────────────────────────────┼────────────┼────────────┤\n",
            "│ (0.12812892202828594, 0.1584780355602638)  │ -0.794437  │ -0.0953284 │\n",
            "├────────────────────────────────────────────┼────────────┼────────────┤\n",
            "│ (0.12812892202828594, 0.1584780355602638)  │ -1.64055   │ -0.693434  │\n",
            "├────────────────────────────────────────────┼────────────┼────────────┤\n",
            "│ (0.12812892202828594, 0.1584780355602638)  │ -1.31217   │ -1.47711   │\n",
            "├────────────────────────────────────────────┼────────────┼────────────┤\n",
            "│ (0.12812892202828594, 0.1584780355602638)  │ -0.47587   │ -0.219043  │\n",
            "╘════════════════════════════════════════════╧════════════╧════════════╛\n"
          ]
        }
      ]
    },
    {
      "cell_type": "markdown",
      "metadata": {
        "id": "sVEcbM2ahNO3"
      },
      "source": [
        "# Tasa de convergencia (Golden)\n",
        "\n",
        "El propósito de calcular la tasa de este ejemplo particular, es ver ¿cómo se ve con respecto a la proporción áurea? Lo que se espera es que la taza alcance ese valor o se encuentre por abajo de él. "
      ]
    },
    {
      "cell_type": "code",
      "metadata": {
        "colab": {
          "base_uri": "https://localhost:8080/",
          "height": 317
        },
        "cellView": "form",
        "id": "CRNOMHjjjvRV",
        "outputId": "9749034b-f33f-4746-e152-3a5c67d6b402"
      },
      "source": [
        "#@title Gráfica de la tasa de convergencia de la función 1 comparada con el número áureo. \n",
        "T=[]\n",
        "for i in range(len(Es)-1):\n",
        "  t=Es[i+1]/Es[i]\n",
        "  T.append(t)\n",
        "\n",
        "p=(1+np.sqrt(5))/2\n",
        "plt.plot(T)\n",
        "plt.plot(p*np.ones(len(T)))"
      ],
      "execution_count": 81,
      "outputs": [
        {
          "output_type": "stream",
          "name": "stderr",
          "text": [
            "/usr/local/lib/python3.7/dist-packages/ipykernel_launcher.py:4: RuntimeWarning: invalid value encountered in double_scalars\n",
            "  after removing the cwd from sys.path.\n"
          ]
        },
        {
          "output_type": "execute_result",
          "data": {
            "text/plain": [
              "[<matplotlib.lines.Line2D at 0x7f3561144990>]"
            ]
          },
          "metadata": {},
          "execution_count": 81
        },
        {
          "output_type": "display_data",
          "data": {
            "image/png": "[encoded data removed]",
            "text/plain": [
              "<Figure size 432x288 with 1 Axes>"
            ]
          },
          "metadata": {
            "needs_background": "light"
          }
        }
      ]
    },
    {
      "cell_type": "markdown",
      "metadata": {
        "id": "cebjrSn4mShk"
      },
      "source": [
        "Con la imagen anterior nos queda claro que la tasa de convergencia del método varía dependiendo de la función, sin embargo, ésta se encuentra acotada por el número áureo, lo que nos indica que con ésta función el método Golden no es tan óptimo. "
      ]
    },
    {
      "cell_type": "markdown",
      "metadata": {
        "id": "RRlqhTlHnsiX"
      },
      "source": [
        "# Método de Brent"
      ]
    },
    {
      "cell_type": "code",
      "metadata": {
        "colab": {
          "base_uri": "https://localhost:8080/"
        },
        "id": "kOcVS8NceduH",
        "cellView": "form",
        "outputId": "9f3ac0b7-34d1-4dc7-adca-87efb05133a3"
      },
      "source": [
        "#@title Información sobre la aplicación del método Brent.\n",
        "resultadob1"
      ],
      "execution_count": 82,
      "outputs": [
        {
          "output_type": "execute_result",
          "data": {
            "text/plain": [
              "     fun: 0.12229946413411436\n",
              "    nfev: 20\n",
              "     nit: 16\n",
              " success: True\n",
              "       x: 0.1281291321007896"
            ]
          },
          "metadata": {},
          "execution_count": 82
        }
      ]
    },
    {
      "cell_type": "markdown",
      "metadata": {
        "id": "RrF-R4TSVmPy"
      },
      "source": [
        "Note que el número de iteraciones se redujo en una cantidad considerable, pues  con el método anterior llegamos al valor del mínimo en 45 iteraciones. Esto puede ser reflejo de la efectividad de la interpolación parabólica que usa el método de Brent.\n",
        "\n",
        "A  continuación observe el comportamiento de las variables obtenidas por éste método."
      ]
    },
    {
      "cell_type": "code",
      "metadata": {
        "cellView": "form",
        "id": "YX_Ci2qcrLTO"
      },
      "source": [
        "#@title Iteraciones Brent\n",
        "#Se intoduce un nivel de tolerancia para que la convergancia sea más rápida\n",
        "iter1=5\n",
        "res1= optimize.minimize_scalar(f, (1,4), method='brent', tol=10**(-5),options={\"maxiter\": iter1})\n",
        "#Creamos una lista para guardar las iteraciones en cada paso que la función no encuentre el mínimo\n",
        "res1.success=False\n",
        "iter1 = 1\n",
        "X1=[]\n",
        "while res1.success == False:\n",
        "  res1= optimize.minimize_scalar(f, (1,4), method='brent', tol=10**(-5), options={\"maxiter\": iter1})\n",
        "  X1.append(res1.x)\n",
        "  iter1+=1"
      ],
      "execution_count": 83,
      "outputs": []
    },
    {
      "cell_type": "code",
      "metadata": {
        "colab": {
          "base_uri": "https://localhost:8080/"
        },
        "cellView": "form",
        "id": "p3709DrhtzpL",
        "outputId": "e436f992-826c-4ab8-caca-e5ca67b9847b"
      },
      "source": [
        "#@title Tabla **x** vs **f(x)**\n",
        "data = [np.array(X1), f(np.array(X1))]\n",
        "#df = pd.DataFrame(data, columns = ['x, f'])\n",
        "#date = pd.date_range(np.array(X), f(np.array(X)))\n",
        "#df = pd.DataFrame(np.random.randn(len(Es), 4), index=data, columns= list(\"xxff\"))\n",
        "df = pd.DataFrame( np.random.randn(len(X1), 2), index=data, columns= list(\"xf\"))\n",
        "#print(df )\n",
        "print(tabulate(df, headers='keys', tablefmt='fancy_grid'))"
      ],
      "execution_count": 84,
      "outputs": [
        {
          "output_type": "stream",
          "name": "stdout",
          "text": [
            "╒════════════════════════════════════════════╤════════════╤═════════════╕\n",
            "│                                            │          x │           f │\n",
            "╞════════════════════════════════════════════╪════════════╪═════════════╡\n",
            "│ (1.0, 1.315997586544325)                   │ -0.322064  │ -0.00664519 │\n",
            "├────────────────────────────────────────────┼────────────┼─────────────┤\n",
            "│ (1.0, 1.315997586544325)                   │ -0.192781  │ -0.801808   │\n",
            "├────────────────────────────────────────────┼────────────┼─────────────┤\n",
            "│ (0.1569882914397065, 0.1243869264745339)   │ -0.932302  │ -1.12333    │\n",
            "├────────────────────────────────────────────┼────────────┼─────────────┤\n",
            "│ (0.10497263418732466, 0.12358842081953766) │  0.906663  │  0.609283   │\n",
            "├────────────────────────────────────────────┼────────────┼─────────────┤\n",
            "│ (0.1260669529468017, 0.12230986330907762)  │ -0.452889  │  1.328      │\n",
            "├────────────────────────────────────────────┼────────────┼─────────────┤\n",
            "│ (0.12785602634593277, 0.12229964678835532) │  0.377017  │ -1.94723    │\n",
            "├────────────────────────────────────────────┼────────────┼─────────────┤\n",
            "│ (0.12815159493878261, 0.12229946537029468) │ -1.14417   │  0.795572   │\n",
            "├────────────────────────────────────────────┼────────────┼─────────────┤\n",
            "│ (0.12812933652329855, 0.12229946413421862) │ -2.60516   │  0.285119   │\n",
            "├────────────────────────────────────────────┼────────────┼─────────────┤\n",
            "│ (0.12812933652329855, 0.12229946413421862) │  2.70002   │  0.6208     │\n",
            "├────────────────────────────────────────────┼────────────┼─────────────┤\n",
            "│ (0.12812933652329855, 0.12229946413421862) │ -0.0398675 │ -0.00330758 │\n",
            "├────────────────────────────────────────────┼────────────┼─────────────┤\n",
            "│ (0.12812933652329855, 0.12229946413421862) │  0.324746  │  0.12597    │\n",
            "╘════════════════════════════════════════════╧════════════╧═════════════╛\n"
          ]
        }
      ]
    },
    {
      "cell_type": "code",
      "metadata": {
        "colab": {
          "base_uri": "https://localhost:8080/",
          "height": 298
        },
        "cellView": "form",
        "id": "l8vZBL_Nrqki",
        "outputId": "09cca184-0f92-48be-8c4a-2715f0e28264"
      },
      "source": [
        "#@title Comportamiento de los valores que va tomando el método Brent\n",
        "plt.plot(X1)\n",
        "plt.title(\"Valores de x\")"
      ],
      "execution_count": 85,
      "outputs": [
        {
          "output_type": "execute_result",
          "data": {
            "text/plain": [
              "Text(0.5, 1.0, 'Valores de x')"
            ]
          },
          "metadata": {},
          "execution_count": 85
        },
        {
          "output_type": "display_data",
          "data": {
            "image/png": "[encoded data removed]",
            "text/plain": [
              "<Figure size 432x288 with 1 Axes>"
            ]
          },
          "metadata": {
            "needs_background": "light"
          }
        }
      ]
    },
    {
      "cell_type": "code",
      "metadata": {
        "colab": {
          "base_uri": "https://localhost:8080/",
          "height": 298
        },
        "cellView": "form",
        "id": "tbKUwCj-sJ5n",
        "outputId": "92c2add2-24f2-4380-9968-0328d564dc0b"
      },
      "source": [
        "#@title Comportamiento de *f(x)*\n",
        "plt.plot(f(np.array(X1)), 'g')\n",
        "plt.title(\"Valores de f(x)\")"
      ],
      "execution_count": 86,
      "outputs": [
        {
          "output_type": "execute_result",
          "data": {
            "text/plain": [
              "Text(0.5, 1.0, 'Valores de f(x)')"
            ]
          },
          "metadata": {},
          "execution_count": 86
        },
        {
          "output_type": "display_data",
          "data": {
            "image/png": "[encoded data removed]",
            "text/plain": [
              "<Figure size 432x288 with 1 Axes>"
            ]
          },
          "metadata": {
            "needs_background": "light"
          }
        }
      ]
    },
    {
      "cell_type": "markdown",
      "metadata": {
        "id": "vdLGw2HGsZCs"
      },
      "source": [
        "# Resultados de las gráficas\n",
        "Esto nos muestra la rapidez con que el método encuentra los valores tanto del mínimo como el de la función en este punto. Se nota a simple vista que a partir de la segunda iteración los valores obtienen estabilidad."
      ]
    },
    {
      "cell_type": "markdown",
      "metadata": {
        "id": "5KVJXGlmuaP8"
      },
      "source": [
        "# Error en el metodo Brent"
      ]
    },
    {
      "cell_type": "code",
      "metadata": {
        "colab": {
          "base_uri": "https://localhost:8080/",
          "height": 298
        },
        "cellView": "form",
        "id": "1uIgIZASuff_",
        "outputId": "ae183d29-a59e-4cc9-c238-e9350e31c4c1"
      },
      "source": [
        "#@title Gráfica del error \n",
        "#Con el comando X[-1] estamos llamando al último valor de la lista\n",
        "Es1=abs(np.array(X1)-X1[-1])\n",
        "#Luego graficamos el error\n",
        "plt.plot(Es1, 'r')\n",
        "plt.title(\"Error\")"
      ],
      "execution_count": 87,
      "outputs": [
        {
          "output_type": "execute_result",
          "data": {
            "text/plain": [
              "Text(0.5, 1.0, 'Error')"
            ]
          },
          "metadata": {},
          "execution_count": 87
        },
        {
          "output_type": "display_data",
          "data": {
            "image/png": "[encoded data removed]",
            "text/plain": [
              "<Figure size 432x288 with 1 Axes>"
            ]
          },
          "metadata": {
            "needs_background": "light"
          }
        }
      ]
    },
    {
      "cell_type": "code",
      "metadata": {
        "colab": {
          "base_uri": "https://localhost:8080/"
        },
        "cellView": "form",
        "id": "mO51F5TTuL7v",
        "outputId": "4fadf7c3-23d2-4681-b707-e610ba32b383"
      },
      "source": [
        "#@title Tabla **x** vs **Error**\n",
        "data = [np.array(X1), f(np.array(Es1))]\n",
        "df = pd.DataFrame( np.random.randn(len(X1), 2), index=data, columns= list(\"xE\"))\n",
        "print(tabulate(df, headers='keys', tablefmt='fancy_grid'))"
      ],
      "execution_count": 88,
      "outputs": [
        {
          "output_type": "stream",
          "name": "stdout",
          "text": [
            "╒════════════════════════════════════════════╤════════════╤═══════════╕\n",
            "│                                            │          x │         E │\n",
            "╞════════════════════════════════════════════╪════════════╪═══════════╡\n",
            "│ (1.0, 1.2539275060552186)                  │ -0.0254569 │  1.128    │\n",
            "├────────────────────────────────────────────┼────────────┼───────────┤\n",
            "│ (1.0, 1.2539275060552186)                  │  0.33591   │  0.295468 │\n",
            "├────────────────────────────────────────────┼────────────┼───────────┤\n",
            "│ (0.1569882914397065, 0.14454093017864425)  │ -0.238191  │  0.390771 │\n",
            "├────────────────────────────────────────────┼────────────┼───────────┤\n",
            "│ (0.10497263418732466, 0.14705212445592958) │  0.286329  │ -0.927253 │\n",
            "├────────────────────────────────────────────┼────────────┼───────────┤\n",
            "│ (0.1260669529468017, 0.15738233247147254)  │ -0.144755  │ -0.515895 │\n",
            "├────────────────────────────────────────────┼────────────┼───────────┤\n",
            "│ (0.12785602634593277, 0.15833197103482635) │ -0.703596  │  0.115383 │\n",
            "├────────────────────────────────────────────┼────────────┼───────────┤\n",
            "│ (0.12815159493878261, 0.15846613023252626) │ -0.81049   │ -0.228228 │\n",
            "├────────────────────────────────────────────┼────────────┼───────────┤\n",
            "│ (0.12812933652329855, 0.1584780355602638)  │  1.02334   │ -1.19974  │\n",
            "├────────────────────────────────────────────┼────────────┼───────────┤\n",
            "│ (0.12812933652329855, 0.1584780355602638)  │ -1.76712   │  1.05336  │\n",
            "├────────────────────────────────────────────┼────────────┼───────────┤\n",
            "│ (0.12812933652329855, 0.1584780355602638)  │  1.24847   │ -1.80427  │\n",
            "├────────────────────────────────────────────┼────────────┼───────────┤\n",
            "│ (0.12812933652329855, 0.1584780355602638)  │  1.24578   │ -0.34803  │\n",
            "╘════════════════════════════════════════════╧════════════╧═══════════╛\n"
          ]
        }
      ]
    },
    {
      "cell_type": "markdown",
      "metadata": {
        "id": "4hpG3U185d_F"
      },
      "source": [
        "# Tasa de convergencia (Brent)\n",
        "\n"
      ]
    },
    {
      "cell_type": "code",
      "metadata": {
        "colab": {
          "base_uri": "https://localhost:8080/",
          "height": 317
        },
        "cellView": "form",
        "id": "KKLYJQzp7pjA",
        "outputId": "e5767933-8e75-408b-ee83-cf09ce08db09"
      },
      "source": [
        "#@title Gráfica de la tasa de convergencia de la función 1 comparada con el número áureo. \n",
        "T1=[]\n",
        "for i in range(len(Es1)-1):\n",
        "  t=Es1[i+1]/Es1[i]\n",
        "  T1.append(t)\n",
        "\n",
        "p=(1+np.sqrt(5))/2\n",
        "plt.plot(T1)\n",
        "plt.plot(p*np.ones(len(T1)))"
      ],
      "execution_count": 89,
      "outputs": [
        {
          "output_type": "stream",
          "name": "stderr",
          "text": [
            "/usr/local/lib/python3.7/dist-packages/ipykernel_launcher.py:4: RuntimeWarning: invalid value encountered in double_scalars\n",
            "  after removing the cwd from sys.path.\n"
          ]
        },
        {
          "output_type": "execute_result",
          "data": {
            "text/plain": [
              "[<matplotlib.lines.Line2D at 0x7f3561034d90>]"
            ]
          },
          "metadata": {},
          "execution_count": 89
        },
        {
          "output_type": "display_data",
          "data": {
            "image/png": "[encoded data removed]",
            "text/plain": [
              "<Figure size 432x288 with 1 Axes>"
            ]
          },
          "metadata": {
            "needs_background": "light"
          }
        }
      ]
    },
    {
      "cell_type": "markdown",
      "metadata": {
        "id": "PJ0c9sZ876U5"
      },
      "source": [
        "Observe que la tasa de convergencia del método de brent es mucho menor que el número áureo, más aún tiene una convergencia cuadrática que puede apreciarse en el descenso que presenta, mientras que en el método Golden la tasa tiende a ser constante."
      ]
    },
    {
      "cell_type": "code",
      "metadata": {
        "id": "NfDhqQu6bG0b",
        "colab": {
          "base_uri": "https://localhost:8080/",
          "height": 368
        },
        "cellView": "form",
        "outputId": "e61245ac-efbb-4486-aefd-257ede511530"
      },
      "source": [
        "#@title Función 2  $$\\frac{1}{2}(1-x)^2\\cdot e^{x^2}-4 x\\cdot ln(x^2)$$\n",
        "x = np.linspace(-1, 2, 100)\n",
        "def g(x):\n",
        "  return 1/2*((1-x)**2*np.exp(x**2))-4*x*np.log(x**2)\n",
        "\n",
        "plt.plot(x, g(x))\n",
        "plt.title(\"Función 2\")\n",
        "  "
      ],
      "execution_count": 90,
      "outputs": [
        {
          "output_type": "stream",
          "name": "stderr",
          "text": [
            "/usr/local/lib/python3.7/dist-packages/ipykernel_launcher.py:4: RuntimeWarning: divide by zero encountered in log\n",
            "  after removing the cwd from sys.path.\n",
            "/usr/local/lib/python3.7/dist-packages/ipykernel_launcher.py:4: RuntimeWarning: invalid value encountered in multiply\n",
            "  after removing the cwd from sys.path.\n"
          ]
        },
        {
          "output_type": "execute_result",
          "data": {
            "text/plain": [
              "Text(0.5, 1.0, 'Función 2')"
            ]
          },
          "metadata": {},
          "execution_count": 90
        },
        {
          "output_type": "display_data",
          "data": {
            "image/png": "[encoded data removed]",
            "text/plain": [
              "<Figure size 432x288 with 1 Axes>"
            ]
          },
          "metadata": {
            "needs_background": "light"
          }
        }
      ]
    },
    {
      "cell_type": "code",
      "metadata": {
        "id": "dsOWJHYVTj1f",
        "cellView": "form"
      },
      "source": [
        "#@title Aplicamos los métodos golden y Brent \n",
        "#resultadog hace referencia a la aplicación del método de golden section.\n",
        "#resultadob Hace referencia a la aplicación del método de Brent.\n",
        "\n",
        "resultadog2 = optimize.minimize_scalar(g, (-1,2), method='golden')\n",
        "resultadob2 = optimize.minimize_scalar(g, (-1,2), method='brent')"
      ],
      "execution_count": 91,
      "outputs": []
    },
    {
      "cell_type": "code",
      "metadata": {
        "id": "s6oMXx1udeDX",
        "colab": {
          "base_uri": "https://localhost:8080/"
        },
        "cellView": "form",
        "outputId": "7a3102b8-ae45-46d0-a1e4-3e01f7f99d23"
      },
      "source": [
        "#@title Información sobre la aplicación del método Golden.\n",
        "resultadog2"
      ],
      "execution_count": 92,
      "outputs": [
        {
          "output_type": "execute_result",
          "data": {
            "text/plain": [
              "     fun: -3.763411563377205\n",
              "    nfev: 45\n",
              "     nit: 40\n",
              " success: True\n",
              "       x: 1.5538693023374048"
            ]
          },
          "metadata": {},
          "execution_count": 92
        }
      ]
    },
    {
      "cell_type": "markdown",
      "metadata": {
        "id": "85IRAj50tMP3"
      },
      "source": [
        "Algo interesante de anotar es que a pesar que el método Golden utilizó un número mayor de iteraciones, llegó acertivamente al máximo global."
      ]
    },
    {
      "cell_type": "code",
      "metadata": {
        "id": "xNqk6WCcdlNh",
        "colab": {
          "base_uri": "https://localhost:8080/"
        },
        "cellView": "form",
        "outputId": "0b3cb5af-9563-44d6-b2af-316b42e4c578"
      },
      "source": [
        "#@title Información sobre la aplicación del método Brent.\n",
        "resultadob2"
      ],
      "execution_count": 93,
      "outputs": [
        {
          "output_type": "execute_result",
          "data": {
            "text/plain": [
              "     fun: -1.966826108593527\n",
              "    nfev: 18\n",
              "     nit: 14\n",
              " success: True\n",
              "       x: -0.28922590981914426"
            ]
          },
          "metadata": {},
          "execution_count": 93
        }
      ]
    },
    {
      "cell_type": "markdown",
      "metadata": {
        "id": "Df0k5wdztutW"
      },
      "source": [
        "La anotación anterior es porque el método de Brent encontró el mínimo local de la función, esto puede deberse a que en el intervalo escogido la función no es unimodal, de manera que la interpolación del método pudo haber descartado puntos al lado derecho del salto por encontrar las características deseadas antes del mismo, en otras palabras, La interpolación dió como resultado una parábola sesgada hacia el lado derecho. Obviamente si se redefine el intervalo de la función, el método de Brent acierta pero posee esa desventaja con respecto al método Golden."
      ]
    },
    {
      "cell_type": "markdown",
      "metadata": {
        "id": "FJ2YRDG1loCq"
      },
      "source": [
        "Ya se ha notado la ventaja que tiene el método de Brent con respecto al de Golden, pero se verá nuevamente la comparación de la aplicación de estos métodos a la función 2. Tal como se ve en la gráfica, la función contiene un salto en 0 por la indefinición del logaritmo en ese punto, sin embargo esto no ha sido problema para el cálculo de los dos métodos."
      ]
    },
    {
      "cell_type": "code",
      "metadata": {
        "id": "NXeCq7sYm24H",
        "cellView": "form"
      },
      "source": [
        "#@title Iteraciones de la función **g** (Golden)\n",
        "#Se intoduce un nivel de tolerancia para que la convergancia sea más rápida\n",
        "iter2=5\n",
        "res2= optimize.minimize_scalar(g, (-1,2), method='golden', tol=10**(-5),options={\"maxiter\": iter2})\n",
        "#Creamos una lista para guardar las iteraciones en cada paso que la función no encuentre el mínimo\n",
        "res2.success=False\n",
        "iter2 = 1\n",
        "X2=[]\n",
        "while res2.success == False:\n",
        "  res2= optimize.minimize_scalar(g, (-1,2), method='golden', tol=10**(-5), options={\"maxiter\": iter2})\n",
        "  X2.append(res2.x)\n",
        "  iter2+=1"
      ],
      "execution_count": 94,
      "outputs": []
    },
    {
      "cell_type": "code",
      "metadata": {
        "id": "U_A0sgUZoa2x",
        "cellView": "form"
      },
      "source": [
        "#@title Iteraciones de la función **g** (Brent)\n",
        "#Se intoduce un nivel de tolerancia para que la convergancia sea más rápida\n",
        "#Agregamos a las definiciones el indicativo **2b** para referirnos a los cálculos de la función 2 con el método 'Brent'.\n",
        "iter2b=5\n",
        "res2b= optimize.minimize_scalar(g, (-1,2), method='brent', tol=10**(-5),options={\"maxiter\": iter2b})\n",
        "#Creamos una lista para guardar las iteraciones en cada paso que la función no encuentre el mínimo\n",
        "res2b.success=False\n",
        "iter2b = 1\n",
        "X2b=[]\n",
        "while res2b.success == False:\n",
        "  res2b= optimize.minimize_scalar(g, (-1,2), method='brent', tol=10**(-5), options={\"maxiter\": iter2b})\n",
        "  X2b.append(res2b.x)\n",
        "  iter2b+=1"
      ],
      "execution_count": 95,
      "outputs": []
    },
    {
      "cell_type": "markdown",
      "metadata": {
        "id": "uR58P7fGz-8I"
      },
      "source": [
        "A partir de aquí analizaremos los resultados obtenidos por el método Golden en la función 2, no tiene sentido comparar los métodos si no se obtuvo el resultado deseado en igualdad de condiciones por parte del método de Brent."
      ]
    },
    {
      "cell_type": "code",
      "metadata": {
        "colab": {
          "base_uri": "https://localhost:8080/"
        },
        "id": "zCHDCUOmp4ZH",
        "cellView": "form",
        "outputId": "5cdf9f92-4a36-47dc-974b-7b4c212008e6"
      },
      "source": [
        "#@title Tabla **x** vs **g(x)** (Golden)\n",
        "data2 = [np.array(X2), f(np.array(X2))]\n",
        "#df = pd.DataFrame(data, columns = ['x, f'])\n",
        "#date = pd.date_range(np.array(X), f(np.array(X)))\n",
        "#df = pd.DataFrame(np.random.randn(len(Es), 4), index=data, columns= list(\"xxff\"))\n",
        "df2 = pd.DataFrame( np.random.randn(len(X2), 2), index=data2, columns= list(\"xg\"))\n",
        "#print(df )\n",
        "print(tabulate(df2, headers='keys', tablefmt='fancy_grid'))"
      ],
      "execution_count": 96,
      "outputs": [
        {
          "output_type": "stream",
          "name": "stdout",
          "text": [
            "╒═══════════════════════════════════════════╤═══════════╤═══════════╕\n",
            "│                                           │         x │         g │\n",
            "╞═══════════════════════════════════════════╪═══════════╪═══════════╡\n",
            "│ (0.1458980299999999, 0.12308392122421288) │ -1.88951  │ -0.3615   │\n",
            "├───────────────────────────────────────────┼───────────┼───────────┤\n",
            "│ (0.8541019616140396, 1.2354636949187134)  │  1.35886  │  0.36915  │\n",
            "├───────────────────────────────────────────┼───────────┼───────────┤\n",
            "│ (1.2917960632031518, 1.2607911012332318)  │  0.597805 │ -2.01379  │\n",
            "├───────────────────────────────────────────┼───────────┼───────────┤\n",
            "│ (1.562305895207736, 1.516367472692141)    │  1.71866  │  0.943352 │\n",
            "├───────────────────────────────────────────┼───────────┼───────────┤\n",
            "│ (1.562305895207736, 1.516367472692141)    │ -2.10882  │ -0.264843 │\n",
            "├───────────────────────────────────────────┼───────────┼───────────┤\n",
            "│ (1.562305895207736, 1.516367472692141)    │  0.205108 │ -0.552369 │\n",
            "├───────────────────────────────────────────┼───────────┼───────────┤\n",
            "│ (1.562305895207736, 1.516367472692141)    │ -0.309228 │  0.84969  │\n",
            "├───────────────────────────────────────────┼───────────┼───────────┤\n",
            "│ (1.562305895207736, 1.516367472692141)    │  2.59414  │ -0.897244 │\n",
            "├───────────────────────────────────────────┼───────────┼───────────┤\n",
            "│ (1.562305895207736, 1.516367472692141)    │ -0.241073 │  0.192641 │\n",
            "├───────────────────────────────────────────┼───────────┼───────────┤\n",
            "│ (1.5472308990916852, 1.4903704202837889)  │  0.757321 │  1.01739  │\n",
            "├───────────────────────────────────────────┼───────────┼───────────┤\n",
            "│ (1.5472308990916852, 1.4903704202837889)  │  0.113195 │  0.015117 │\n",
            "├───────────────────────────────────────────┼───────────┼───────────┤\n",
            "│ (1.5529890352088986, 1.5001523323370405)  │  1.61266  │  0.583311 │\n",
            "├───────────────────────────────────────────┼───────────┼───────────┤\n",
            "│ (1.5529890352088986, 1.5001523323370405)  │  0.128844 │  0.626327 │\n",
            "├───────────────────────────────────────────┼───────────┼───────────┤\n",
            "│ (1.5529890352088986, 1.5001523323370405)  │  0.262716 │  0.310187 │\n",
            "├───────────────────────────────────────────┼───────────┼───────────┤\n",
            "│ (1.5543483467545585, 1.5024883758441938)  │ -0.147548 │ -0.558292 │\n",
            "├───────────────────────────────────────────┼───────────┼───────────┤\n",
            "│ (1.5543483467545585, 1.5024883758441938)  │ -0.656736 │ -1.03459  │\n",
            "├───────────────────────────────────────────┼───────────┼───────────┤\n",
            "│ (1.553829135947116, 1.5015948815280367)   │ -1.47792  │ -0.833486 │\n",
            "├───────────────────────────────────────────┼───────────┼───────────┤\n",
            "│ (1.553829135947116, 1.5015948815280367)   │  0.325815 │ -1.71723  │\n",
            "├───────────────────────────────────────────┼───────────┼───────────┤\n",
            "│ (1.553829135947116, 1.5015948815280367)   │  0.263322 │  0.766326 │\n",
            "├───────────────────────────────────────────┼───────────┼───────────┤\n",
            "│ (1.553829135947116, 1.5015948815280367)   │ -1.14082  │ -0.817313 │\n",
            "├───────────────────────────────────────────┼───────────┼───────────┤\n",
            "│ (1.5539048877825277, 1.5017251478382685)  │ -2.26146  │  0.142859 │\n",
            "├───────────────────────────────────────────┼───────────┼───────────┤\n",
            "│ (1.5539048877825277, 1.5017251478382685)  │  0.208546 │ -0.226256 │\n",
            "├───────────────────────────────────────────┼───────────┼───────────┤\n",
            "│ (1.5538759531562052, 1.5016753867940467)  │ -1.21185  │ -0.595809 │\n",
            "├───────────────────────────────────────────┼───────────┼───────────┤\n",
            "│ (1.5538759531562052, 1.5016753867940467)  │ -0.599563 │  0.482356 │\n",
            "├───────────────────────────────────────────┼───────────┼───────────┤\n",
            "│ (1.5538759531562052, 1.5016753867940467)  │  0.24625  │  0.455871 │\n",
            "├───────────────────────────────────────────┼───────────┼───────────┤\n",
            "│ (1.553869122617498, 1.501663640479711)    │  0.89618  │ -0.428859 │\n",
            "├───────────────────────────────────────────┼───────────┼───────────┤\n",
            "│ (1.553869122617498, 1.501663640479711)    │ -1.60264  │  2.23213  │\n",
            "╘═══════════════════════════════════════════╧═══════════╧═══════════╛\n"
          ]
        }
      ]
    },
    {
      "cell_type": "code",
      "metadata": {
        "colab": {
          "base_uri": "https://localhost:8080/",
          "height": 298
        },
        "id": "u-l-MjWqz3oc",
        "cellView": "form",
        "outputId": "c5849cd4-7b21-4190-c6ae-8a116977dc4a"
      },
      "source": [
        "#@title Comportamiento de los valores x en la función 2 (Golden)\n",
        "plt.plot(X2)\n",
        "plt.title(\"Valores de x\")"
      ],
      "execution_count": 97,
      "outputs": [
        {
          "output_type": "execute_result",
          "data": {
            "text/plain": [
              "Text(0.5, 1.0, 'Valores de x')"
            ]
          },
          "metadata": {},
          "execution_count": 97
        },
        {
          "output_type": "display_data",
          "data": {
            "image/png": "[encoded data removed]",
            "text/plain": [
              "<Figure size 432x288 with 1 Axes>"
            ]
          },
          "metadata": {
            "needs_background": "light"
          }
        }
      ]
    },
    {
      "cell_type": "code",
      "metadata": {
        "colab": {
          "base_uri": "https://localhost:8080/",
          "height": 298
        },
        "id": "wZbGlcl84cvR",
        "cellView": "form",
        "outputId": "867496d2-f87b-4395-ed79-3ecd8761183c"
      },
      "source": [
        "#@title Comportamiento de los valores x en la función 2 (Brent)\n",
        "plt.plot(X2b)\n",
        "plt.title(\"Valores de x (Brent)\")"
      ],
      "execution_count": 105,
      "outputs": [
        {
          "output_type": "execute_result",
          "data": {
            "text/plain": [
              "Text(0.5, 1.0, 'Valores de x (Brent)')"
            ]
          },
          "metadata": {},
          "execution_count": 105
        },
        {
          "output_type": "display_data",
          "data": {
            "image/png": "[encoded data removed]",
            "text/plain": [
              "<Figure size 432x288 with 1 Axes>"
            ]
          },
          "metadata": {
            "needs_background": "light"
          }
        }
      ]
    },
    {
      "cell_type": "markdown",
      "metadata": {
        "id": "LSxP96bo41Vh"
      },
      "source": [
        "Nótese la diferencia de valores que toman ambos métodos. A pesar de que coinciden algunos puntos en las primeras dos iteraciones, el método de Bren desciende y toma puntos en lo que sería el mínimo local."
      ]
    },
    {
      "cell_type": "code",
      "metadata": {
        "colab": {
          "base_uri": "https://localhost:8080/"
        },
        "id": "rTpdflR_EM_A",
        "cellView": "form",
        "outputId": "232a3f22-6918-4b49-d423-671825375d29"
      },
      "source": [
        "#@title Tabla **x** vs **g(x)** (Golden)\n",
        "data2b = [np.array(X2b), g(np.array(X2b))]\n",
        "#df = pd.DataFrame(data, columns = ['x, f'])\n",
        "#date = pd.date_range(np.array(X), f(np.array(X)))\n",
        "#df = pd.DataFrame(np.random.randn(len(Es), 4), index=data, columns= list(\"xxff\"))\n",
        "df2b = pd.DataFrame( np.random.randn(len(X2b), 2), index=data2b, columns= list(\"xg\"))\n",
        "#print(df )\n",
        "print(tabulate(df2b, headers='keys', tablefmt='fancy_grid'))"
      ],
      "execution_count": 99,
      "outputs": [
        {
          "output_type": "stream",
          "name": "stdout",
          "text": [
            "╒═════════════════════════════════════════════╤════════════╤═══════════╕\n",
            "│                                             │          x │         g │\n",
            "╞═════════════════════════════════════════════╪════════════╪═══════════╡\n",
            "│ (-1.0, 5.43656365691809)                    │ -0.932122  │ -0.65297  │\n",
            "├─────────────────────────────────────────────┼────────────┼───────────┤\n",
            "│ (0.14589800000000008, 2.6192436246299553)   │ -0.0901933 │ -0.371479 │\n",
            "├─────────────────────────────────────────────┼────────────┼───────────┤\n",
            "│ (-0.42678422583594233, -1.6859626303644188) │ -1.97814   │  0.465122 │\n",
            "├─────────────────────────────────────────────┼────────────┼───────────┤\n",
            "│ (-0.3564173177611718, -1.8970484711427773)  │  0.790229  │  0.894812 │\n",
            "├─────────────────────────────────────────────┼────────────┼───────────┤\n",
            "│ (-0.31996525510381735, -1.9518468009452663) │  0.555552  │  1.15742  │\n",
            "├─────────────────────────────────────────────┼────────────┼───────────┤\n",
            "│ (-0.31996525510381735, -1.9518468009452663) │  2.35434   │ -0.523796 │\n",
            "├─────────────────────────────────────────────┼────────────┼───────────┤\n",
            "│ (-0.2845388089507115, -1.9664679524042543)  │ -0.245059  │  2.06619  │\n",
            "├─────────────────────────────────────────────┼────────────┼───────────┤\n",
            "│ (-0.28865119752146, -1.9668207422468795)    │ -0.202139  │  0.638154 │\n",
            "├─────────────────────────────────────────────┼────────────┼───────────┤\n",
            "│ (-0.2892893978710913, -1.9668260431499354)  │  1.42664   │  1.39343  │\n",
            "├─────────────────────────────────────────────┼────────────┼───────────┤\n",
            "│ (-0.2892249306819076, -1.9668261085778223)  │  0.193361  │ -0.119169 │\n",
            "├─────────────────────────────────────────────┼────────────┼───────────┤\n",
            "│ (-0.2892249306819076, -1.9668261085778223)  │  1.23831   │  0.264968 │\n",
            "├─────────────────────────────────────────────┼────────────┼───────────┤\n",
            "│ (-0.2892249306819076, -1.9668261085778223)  │  0.61923   │  0.23881  │\n",
            "├─────────────────────────────────────────────┼────────────┼───────────┤\n",
            "│ (-0.2892249306819076, -1.9668261085778223)  │  0.358847  │ -0.850094 │\n",
            "╘═════════════════════════════════════════════╧════════════╧═══════════╛\n"
          ]
        }
      ]
    },
    {
      "cell_type": "code",
      "metadata": {
        "colab": {
          "base_uri": "https://localhost:8080/",
          "height": 298
        },
        "id": "LQYZ9M7n0tyh",
        "cellView": "form",
        "outputId": "551b38a8-c462-4791-ad1d-fbda200b83ad"
      },
      "source": [
        "#@title Comportamiento de *f(x)*\n",
        "plt.plot(g(np.array(X2)), 'g')\n",
        "plt.title(\"Valores de g(x)\")"
      ],
      "execution_count": 100,
      "outputs": [
        {
          "output_type": "execute_result",
          "data": {
            "text/plain": [
              "Text(0.5, 1.0, 'Valores de g(x)')"
            ]
          },
          "metadata": {},
          "execution_count": 100
        },
        {
          "output_type": "display_data",
          "data": {
            "image/png": "[encoded data removed]",
            "text/plain": [
              "<Figure size 432x288 with 1 Axes>"
            ]
          },
          "metadata": {
            "needs_background": "light"
          }
        }
      ]
    },
    {
      "cell_type": "markdown",
      "metadata": {
        "id": "nXiDf5GP1D6c"
      },
      "source": [
        "# Error en el método Golden en la función 2"
      ]
    },
    {
      "cell_type": "code",
      "metadata": {
        "colab": {
          "base_uri": "https://localhost:8080/",
          "height": 298
        },
        "id": "ufmcW9RB1ew2",
        "cellView": "form",
        "outputId": "54abe60d-af28-4890-f966-464dc9cf2657"
      },
      "source": [
        "#@title Gráfica del error \n",
        "#Con el comando X[-1] estamos llamando al último valor de la lista\n",
        "Es2=abs(np.array(X2)-X2[-1])\n",
        "#Luego graficamos el error\n",
        "plt.plot(Es2, 'r')\n",
        "plt.title(\"Error\")"
      ],
      "execution_count": 101,
      "outputs": [
        {
          "output_type": "execute_result",
          "data": {
            "text/plain": [
              "Text(0.5, 1.0, 'Error')"
            ]
          },
          "metadata": {},
          "execution_count": 101
        },
        {
          "output_type": "display_data",
          "data": {
            "image/png": "[encoded data removed]",
            "text/plain": [
              "<Figure size 432x288 with 1 Axes>"
            ]
          },
          "metadata": {
            "needs_background": "light"
          }
        }
      ]
    },
    {
      "cell_type": "markdown",
      "metadata": {
        "id": "D8P998AP6M5s"
      },
      "source": [
        "El error se \"estabiliza\" a partir de la iteración 12. Por esto es que a partir de esta iteración el optimizador toma valores influyentes en la ubicación del mínimo. La posible ventaja del método pudo inferir en la forma en como se acorta el intervalo inicial, es decir que al tomar intervalos tanto de derecha como de izquierda, el optimizador pudo localizar la diferencia entre los mínimos y concretar el global. "
      ]
    },
    {
      "cell_type": "code",
      "metadata": {
        "colab": {
          "base_uri": "https://localhost:8080/"
        },
        "id": "UFfOQ3jE2c95",
        "cellView": "form",
        "outputId": "3a241cb7-3b83-413a-8c0b-442032323148"
      },
      "source": [
        "#@title Tabla **x** vs **Error**\n",
        "#El indicativo 2g nos dice estamos trabajando en la función 2 con el método Golden.\n",
        "data2g = [np.array(X2), g(np.array(Es2))]\n",
        "df2g = pd.DataFrame( np.random.randn(len(X2), 2), index=data2g, columns= list(\"xE\"))\n",
        "print(tabulate(df2g, headers='keys', tablefmt='fancy_grid'))"
      ],
      "execution_count": 104,
      "outputs": [
        {
          "output_type": "stream",
          "name": "stdout",
          "text": [
            "╒══════════════════════════════════════════╤════════════╤════════════╕\n",
            "│                                          │          x │          E │\n",
            "╞══════════════════════════════════════════╪════════════╪════════════╡\n",
            "│ (0.1458980299999999, -3.249715026566405) │  1.07811   │ -0.418087  │\n",
            "├──────────────────────────────────────────┼────────────┼────────────┤\n",
            "│ (0.8541019616140396, 2.072122026219141)  │ -0.509895  │  0.739231  │\n",
            "├──────────────────────────────────────────┼────────────┼────────────┤\n",
            "│ (1.2917960632031518, 3.0992284978583347) │ -0.820022  │ -1.10533   │\n",
            "├──────────────────────────────────────────┼────────────┼────────────┤\n",
            "│ (1.562305895207736, 0.8139290139073445)  │  1.45946   │  0.231905  │\n",
            "├──────────────────────────────────────────┼────────────┼────────────┤\n",
            "│ (1.562305895207736, 0.8139290139073445)  │  0.111207  │  0.474753  │\n",
            "├──────────────────────────────────────────┼────────────┼────────────┤\n",
            "│ (1.562305895207736, 0.8139290139073445)  │  1.16104   │ -1.21557   │\n",
            "├──────────────────────────────────────────┼────────────┼────────────┤\n",
            "│ (1.562305895207736, 0.8139290139073445)  │ -1.61782   │ -0.266146  │\n",
            "├──────────────────────────────────────────┼────────────┼────────────┤\n",
            "│ (1.562305895207736, 0.8139290139073445)  │ -0.143804  │  0.715801  │\n",
            "├──────────────────────────────────────────┼────────────┼────────────┤\n",
            "│ (1.562305895207736, 0.8139290139073445)  │  0.0915294 │  0.393014  │\n",
            "├──────────────────────────────────────────┼────────────┼────────────┤\n",
            "│ (1.5472308990916852, 0.7597263471516511) │ -2.41665   │ -1.27153   │\n",
            "├──────────────────────────────────────────┼────────────┼────────────┤\n",
            "│ (1.5472308990916852, 0.7597263471516511) │ -0.304626  │  0.0289941 │\n",
            "├──────────────────────────────────────────┼────────────┼────────────┤\n",
            "│ (1.5529890352088986, 0.5486554510275653) │  1.91896   │  1.91181   │\n",
            "├──────────────────────────────────────────┼────────────┼────────────┤\n",
            "│ (1.5529890352088986, 0.5486554510275653) │  0.849383  │  3.17891   │\n",
            "├──────────────────────────────────────────┼────────────┼────────────┤\n",
            "│ (1.5529890352088986, 0.5486554510275653) │  0.183184  │ -0.880956  │\n",
            "├──────────────────────────────────────────┼────────────┼────────────┤\n",
            "│ (1.5543483467545585, 0.5288239977503563) │ -0.476099  │ -0.11575   │\n",
            "├──────────────────────────────────────────┼────────────┼────────────┤\n",
            "│ (1.5543483467545585, 0.5288239977503563) │ -0.993687  │ -0.76366   │\n",
            "├──────────────────────────────────────────┼────────────┼────────────┤\n",
            "│ (1.553829135947116, 0.5031995636279136)  │  0.288558  │  0.0221134 │\n",
            "├──────────────────────────────────────────┼────────────┼────────────┤\n",
            "│ (1.553829135947116, 0.5031995636279136)  │ -0.313324  │ -1.33459   │\n",
            "├──────────────────────────────────────────┼────────────┼────────────┤\n",
            "│ (1.553829135947116, 0.5031995636279136)  │  0.381328  │ -0.609082  │\n",
            "├──────────────────────────────────────────┼────────────┼────────────┤\n",
            "│ (1.553829135947116, 0.5031995636279136)  │ -0.590317  │  0.64687   │\n",
            "├──────────────────────────────────────────┼────────────┼────────────┤\n",
            "│ (1.5539048877825277, 0.5028936996037948) │  2.20544   │ -0.442619  │\n",
            "├──────────────────────────────────────────┼────────────┼────────────┤\n",
            "│ (1.5539048877825277, 0.5028936996037948) │ -1.14248   │ -1.19119   │\n",
            "├──────────────────────────────────────────┼────────────┼────────────┤\n",
            "│ (1.5538759531562052, 0.500643114774703)  │ -0.441159  │ -0.142069  │\n",
            "├──────────────────────────────────────────┼────────────┼────────────┤\n",
            "│ (1.5538759531562052, 0.500643114774703)  │  0.313741  │ -1.74827   │\n",
            "├──────────────────────────────────────────┼────────────┼────────────┤\n",
            "│ (1.5538759531562052, 0.500643114774703)  │  1.14035   │ -0.184993  │\n",
            "├──────────────────────────────────────────┼────────────┼────────────┤\n",
            "│ (1.553869122617498, nan)                 │  0.463724  │ -0.470152  │\n",
            "├──────────────────────────────────────────┼────────────┼────────────┤\n",
            "│ (1.553869122617498, nan)                 │  0.893948  │ -0.0556727 │\n",
            "╘══════════════════════════════════════════╧════════════╧════════════╛\n"
          ]
        },
        {
          "output_type": "stream",
          "name": "stderr",
          "text": [
            "/usr/local/lib/python3.7/dist-packages/ipykernel_launcher.py:4: RuntimeWarning: divide by zero encountered in log\n",
            "  after removing the cwd from sys.path.\n",
            "/usr/local/lib/python3.7/dist-packages/ipykernel_launcher.py:4: RuntimeWarning: invalid value encountered in multiply\n",
            "  after removing the cwd from sys.path.\n"
          ]
        }
      ]
    },
    {
      "cell_type": "markdown",
      "metadata": {
        "id": "I_rGnL7176Mn"
      },
      "source": [
        "Note que en los valores de la tabla se aprecian los saltos que da el optimizador al buscar la diferencia entre los puntos."
      ]
    },
    {
      "cell_type": "code",
      "metadata": {
        "colab": {
          "base_uri": "https://localhost:8080/",
          "height": 317
        },
        "cellView": "form",
        "id": "eKsyeFkV35aK",
        "outputId": "605c3fa5-3b99-412d-faa2-5ed2e1de19fb"
      },
      "source": [
        "#@title Gráfica de la tasa de convergencia de la función 2 comparada con el número áureo. \n",
        "T2=[]\n",
        "for i in range(len(Es2)-1):\n",
        "  t=Es2[i+1]/Es2[i]\n",
        "  T2.append(t)\n",
        "\n",
        "p=(1+np.sqrt(5))/2\n",
        "plt.plot(T2)\n",
        "plt.plot(p*np.ones(len(T2)))"
      ],
      "execution_count": 103,
      "outputs": [
        {
          "output_type": "stream",
          "name": "stderr",
          "text": [
            "/usr/local/lib/python3.7/dist-packages/ipykernel_launcher.py:4: RuntimeWarning: invalid value encountered in double_scalars\n",
            "  after removing the cwd from sys.path.\n"
          ]
        },
        {
          "output_type": "execute_result",
          "data": {
            "text/plain": [
              "[<matplotlib.lines.Line2D at 0x7f3560d64a50>]"
            ]
          },
          "metadata": {},
          "execution_count": 103
        },
        {
          "output_type": "display_data",
          "data": {
            "image/png": "[encoded data removed]",
            "text/plain": [
              "<Figure size 432x288 with 1 Axes>"
            ]
          },
          "metadata": {
            "needs_background": "light"
          }
        }
      ]
    },
    {
      "cell_type": "markdown",
      "metadata": {
        "id": "Y5RpCRKP5t8M"
      },
      "source": [
        "Nuevamente vemos que la tasa de convergencia se aprecia como una cota superior. También se ve que la tendencia de la tasa es parcialmente constante aunque no logre ser exactamente el número áureo."
      ]
    },
    {
      "cell_type": "markdown",
      "metadata": {
        "id": "Q8J9wFVd8UuC"
      },
      "source": [
        "# Conclusiones\n",
        "\n",
        "\n",
        "*   Se encontró que el método de Brent resulta más efectivo que el de Golden para funciones unimodales en un intervalo, por la interpolación tomando tres puntos dentro del intervalo.\n",
        "\n",
        "\n",
        "*   El método Golden es un poco más tardío pero la forma en que particiona y evalúa los intervalos de la función le permite encontrar el mínimo global de un función multinodal o parcialmente unimodal.\n",
        "\n",
        "\n",
        "*   Estos métodos funcionan bien para funciones unimodales. \n",
        "\n",
        "\n",
        "\n",
        "\n",
        "\n"
      ]
    },
    {
      "cell_type": "markdown",
      "metadata": {
        "id": "iU9ZvWxPoMcd"
      },
      "source": [
        "# Referencias\n",
        "\n",
        "Heath, M. T. (2018). Scientific Computing: An Introductory Survey, Revised Second Edition. Society for Industrial and Applied Mathematics."
      ]
    }
  ]
}